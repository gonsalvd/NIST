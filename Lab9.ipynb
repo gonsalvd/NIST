{
 "cells": [
  {
   "cell_type": "code",
   "execution_count": 3,
   "metadata": {
    "collapsed": false
   },
   "outputs": [],
   "source": [
    "import pandas as pd\n",
    "from scipy.spatial import distance as dist\n",
    "from datetime import timedelta"
   ]
  },
  {
   "cell_type": "code",
   "execution_count": 4,
   "metadata": {
    "collapsed": false
   },
   "outputs": [],
   "source": [
    "def getTimeStamp(timeStamp):\n",
    "    return pd.to_datetime(timeStamp)\n",
    "\n",
    "def createDF(folderName):\n",
    "    flow_df = pd.read_csv(folderName + 'flow.tsv', delimiter='\\t', header=None)\n",
    "    speed_df = pd.read_csv(folderName + 'speed.tsv', delimiter='\\t', header=None)\n",
    "    occupancy_df = pd.read_csv(folderName + 'occupancy.tsv', delimiter='\\t', header=None)\n",
    "    \n",
    "    df = pd.DataFrame({'A' : []})\n",
    "    del df['A']\n",
    "    for col in flow_df:\n",
    "        df[col] = pd.Series(data = list(zip(flow_df[col],speed_df[col], occupancy_df[col])))\n",
    "    \n",
    "    timeStamp_df = pd.read_csv(folderName + 'timestamp.tsv', delimiter='\\t', header=None)\n",
    "    df['timeStamp'] = getTimeStamp(timeStamp_df[0])\n",
    "    return df"
   ]
  },
  {
   "cell_type": "code",
   "execution_count": 5,
   "metadata": {
    "collapsed": false
   },
   "outputs": [],
   "source": [
    "def containsNeg(vec):\n",
    "    if(vec[0] < 0):\n",
    "        return 1\n",
    "    elif(vec[1] < 0):\n",
    "        return 1\n",
    "    elif(vec[2] < 0):\n",
    "        return 1\n",
    "    else:\n",
    "        return 0"
   ]
  },
  {
   "cell_type": "code",
   "execution_count": 6,
   "metadata": {
    "collapsed": true
   },
   "outputs": [],
   "source": [
    "def getVecInTimePeriod(timeInterval, currTime, df):\n",
    "    timeInterval = timedelta(minutes = timeInterval)\n",
    "    startTime = currTime - timeInterval\n",
    "    endTime = currTime + timeInterval\n",
    "    df = df[df['timeStamp'] >= startTime]\n",
    "    return df[df['timeStamp'] <= endTime]"
   ]
  },
  {
   "cell_type": "code",
   "execution_count": 7,
   "metadata": {
    "collapsed": false
   },
   "outputs": [],
   "source": [
    "zone1160 = createDF('cleaning1/1160/')"
   ]
  },
  {
   "cell_type": "code",
   "execution_count": 12,
   "metadata": {
    "collapsed": false
   },
   "outputs": [
    {
     "data": {
      "text/html": [
       "<div>\n",
       "<table border=\"1\" class=\"dataframe\">\n",
       "  <thead>\n",
       "    <tr style=\"text-align: right;\">\n",
       "      <th></th>\n",
       "      <th>0</th>\n",
       "      <th>1</th>\n",
       "      <th>2</th>\n",
       "      <th>timeStamp</th>\n",
       "    </tr>\n",
       "  </thead>\n",
       "  <tbody>\n",
       "    <tr>\n",
       "      <th>0</th>\n",
       "      <td>(8, 68.0, 3.0)</td>\n",
       "      <td>(13, 67.0, 4.0)</td>\n",
       "      <td>(255, 0.0, 4.0)</td>\n",
       "      <td>2006-09-01 00:00:07</td>\n",
       "    </tr>\n",
       "    <tr>\n",
       "      <th>1</th>\n",
       "      <td>(9, 67.0, 4.0)</td>\n",
       "      <td>(4, 60.0, 2.0)</td>\n",
       "      <td>(255, 0.0, 4.0)</td>\n",
       "      <td>2006-09-01 00:01:07</td>\n",
       "    </tr>\n",
       "    <tr>\n",
       "      <th>2</th>\n",
       "      <td>(11, 66.0, 4.0)</td>\n",
       "      <td>(10, 64.0, 5.0)</td>\n",
       "      <td>(255, 0.0, 4.0)</td>\n",
       "      <td>2006-09-01 00:02:07</td>\n",
       "    </tr>\n",
       "    <tr>\n",
       "      <th>3</th>\n",
       "      <td>(-8, 71.0, 3.0)</td>\n",
       "      <td>(3, 63.0, 1.0)</td>\n",
       "      <td>(255, 0.0, 4.0)</td>\n",
       "      <td>2006-09-01 00:03:07</td>\n",
       "    </tr>\n",
       "    <tr>\n",
       "      <th>4</th>\n",
       "      <td>(5, 65.0, 2.0)</td>\n",
       "      <td>(9, 70.0, 3.0)</td>\n",
       "      <td>(255, 0.0, 4.0)</td>\n",
       "      <td>2006-09-01 00:04:07</td>\n",
       "    </tr>\n",
       "  </tbody>\n",
       "</table>\n",
       "</div>"
      ],
      "text/plain": [
       "                 0                1                2           timeStamp\n",
       "0   (8, 68.0, 3.0)  (13, 67.0, 4.0)  (255, 0.0, 4.0) 2006-09-01 00:00:07\n",
       "1   (9, 67.0, 4.0)   (4, 60.0, 2.0)  (255, 0.0, 4.0) 2006-09-01 00:01:07\n",
       "2  (11, 66.0, 4.0)  (10, 64.0, 5.0)  (255, 0.0, 4.0) 2006-09-01 00:02:07\n",
       "3  (-8, 71.0, 3.0)   (3, 63.0, 1.0)  (255, 0.0, 4.0) 2006-09-01 00:03:07\n",
       "4   (5, 65.0, 2.0)   (9, 70.0, 3.0)  (255, 0.0, 4.0) 2006-09-01 00:04:07"
      ]
     },
     "execution_count": 12,
     "metadata": {},
     "output_type": "execute_result"
    }
   ],
   "source": [
    "result = getVecInTimePeriod(5, zone1160['timeStamp'][0], zone1160)\n",
    "result"
   ]
  },
  {
   "cell_type": "code",
   "execution_count": 15,
   "metadata": {
    "collapsed": false
   },
   "outputs": [],
   "source": [
    "ex = zone1160[0][0]\n",
    "#same lane calculations\n",
    "def compareLaneData(currVec, currTime, df, distThreshold):\n",
    "    row_index = 0\n",
    "    col_index = 0\n",
    "    numVecGreater = 0\n",
    "    while row_index < df.shape[0]:\n",
    "        edist = dist.euclidean(df[0][row_index], currVec)\n",
    "        if(edist > distThreshold):\n",
    "            numVecGreater += 1\n",
    "        row_index += 1\n",
    "    totalVec = row_index - 1\n",
    "    return numVecGreater/totalVec"
   ]
  },
  {
   "cell_type": "code",
   "execution_count": 17,
   "metadata": {
    "collapsed": false
   },
   "outputs": [
    {
     "data": {
      "text/plain": [
       "0.25"
      ]
     },
     "execution_count": 17,
     "metadata": {},
     "output_type": "execute_result"
    }
   ],
   "source": [
    "compareLaneData(zone1160[0][0], zone1160['timeStamp'][0], result, 5)"
   ]
  },
  {
   "cell_type": "code",
   "execution_count": null,
   "metadata": {
    "collapsed": true
   },
   "outputs": [],
   "source": []
  }
 ],
 "metadata": {
  "anaconda-cloud": {},
  "kernelspec": {
   "display_name": "Python [Root]",
   "language": "python",
   "name": "Python [Root]"
  },
  "language_info": {
   "codemirror_mode": {
    "name": "ipython",
    "version": 3
   },
   "file_extension": ".py",
   "mimetype": "text/x-python",
   "name": "python",
   "nbconvert_exporter": "python",
   "pygments_lexer": "ipython3",
   "version": "3.5.2"
  }
 },
 "nbformat": 4,
 "nbformat_minor": 0
}
